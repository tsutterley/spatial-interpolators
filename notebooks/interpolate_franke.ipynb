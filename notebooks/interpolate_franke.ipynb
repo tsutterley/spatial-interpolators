{
 "cells": [
  {
   "cell_type": "markdown",
   "metadata": {},
   "source": [
    "## Test cartesian spatial interpolators using Franke bivariate test function  \n",
    "http://www.sfu.ca/~ssurjano/franke2d.html  "
   ]
  },
  {
   "cell_type": "code",
   "execution_count": null,
   "metadata": {},
   "outputs": [],
   "source": [
    "import numpy as np\n",
    "import scipy.interpolate\n",
    "import spatial_interpolators as spi\n",
    "import matplotlib.pyplot as plt"
   ]
  },
  {
   "cell_type": "markdown",
   "metadata": {},
   "source": [
    "### Franke's bivariate test function"
   ]
  },
  {
   "cell_type": "code",
   "execution_count": null,
   "metadata": {},
   "outputs": [],
   "source": [
    "def franke(x,y):\n",
    "\tF1 = 0.75*np.exp(-((9.0*x-2.0)**2 + (9.0*y-2.0)**2)/4.0)\n",
    "\tF2 = 0.75*np.exp(-((9.0*x+1.0)**2/49.0-(9.0*y+1.0)/10.0))\n",
    "\tF3 = 0.5*np.exp(-((9.0*x-7.0)**2 + (9.0*y-3.0)**2)/4.0)\n",
    "\tF4 = 0.2*np.exp(-((9.0*x-4.0)**2 + (9.0*y-7.0)**2))\n",
    "\tF = F1 + F2 + F3 - F4\n",
    "\treturn F"
   ]
  },
  {
   "cell_type": "markdown",
   "metadata": {},
   "source": [
    "### Calculate Franke's evaluation function"
   ]
  },
  {
   "cell_type": "code",
   "execution_count": null,
   "metadata": {},
   "outputs": [],
   "source": [
    "# calculate Franke's evaluation function at random points\n",
    "X = np.random.rand(500)\n",
    "Y = np.random.rand(500)\n",
    "Z = franke(X, Y)\n",
    "# calculate output points\n",
    "nx = 250\n",
    "ny = 250\n",
    "xpts = np.arange(nx)/np.float64(nx)\n",
    "ypts = np.arange(ny)/np.float64(ny)\n",
    "XI,YI = np.meshgrid(xpts,ypts)\n",
    "# calculate real values at grid points\n",
    "ZI = franke(XI,YI)"
   ]
  },
  {
   "cell_type": "markdown",
   "metadata": {},
   "source": [
    "### Interpolate to grid"
   ]
  },
  {
   "cell_type": "code",
   "execution_count": null,
   "metadata": {},
   "outputs": [],
   "source": [
    "# interpolate with radial basis functions\n",
    "radial = spi.radial_basis(X, Y, Z, XI, YI, polynomial=0,\n",
    "\tsmooth=0.001, epsilon=10.0, method='inverse')\n",
    "wendland = spi.compact_radial_basis(X, Y, Z, XI, YI,\n",
    "\t3, 3, radius=0.45, smooth=0.01)\n",
    "\n",
    "# interpolate with biharmonic spline functions\n",
    "spline = {}\n",
    "# spline['0'] = spi.biharmonic_spline(X, Y, Z, XI, YI, tension=0)\n",
    "spline['10'] = spi.biharmonic_spline(X, Y, Z, XI, YI, tension=0.1)\n",
    "# spline['50'] = spi.biharmonic_spline(X, Y, Z, XI, YI, tension=0.5)\n",
    "# spline['90'] = spi.biharmonic_spline(X, Y, Z, XI, YI, tension=0.9)\n",
    "# spline['R10'] = spi.biharmonic_spline(X, Y, Z, XI, YI,\n",
    "# \ttension=0.1, regular=True)\n",
    "spline['R50'] = spi.biharmonic_spline(X, Y, Z, XI, YI,\n",
    "\ttension=0.5, regular=True)\n",
    "\n",
    "# interpolate with Shepard Interpolant function\n",
    "shepard = {}\n",
    "# shepard['0'] = spi.shepard_interpolant(X, Y, Z, XI, YI, power=0.,\n",
    "# \tmodified=True, D=0.1, L=0.5)\n",
    "# shepard['1'] = spi.shepard_interpolant(X, Y, Z, XI, YI, power=1.,\n",
    "# \tmodified=True, D=0.1, L=0.5)\n",
    "shepard['2'] = spi.shepard_interpolant(X, Y, Z, XI, YI, power=2.,\n",
    "\tmodified=True, D=0.1, L=0.5)\n",
    "# shepard['3'] = spi.shepard_interpolant(X, Y, Z, XI, YI, power=3.,\n",
    "# \tmodified=True, D=0.1, L=0.5)\n",
    "# shepard['5'] = spi.shepard_interpolant(X, Y, Z, XI, YI, power=5.,\n",
    "# \tmodified=True, D=0.1, L=0.5)\n",
    "# shepard['10'] = spi.shepard_interpolant(X, Y, Z, XI, YI, power=10.,\n",
    "# \tmodified=True, D=0.1, L=0.5)\n",
    "# shepard['16'] = spi.shepard_interpolant(X, Y, Z, XI, YI, power=16.,\n",
    "# \tmodified=True, D=0.1, L=0.5)\n",
    "\n",
    "# Interpolating with barnes objective with different lengths scales\n",
    "barnes = {}\n",
    "# barnes['5'] = spi.barnes_objective(X, Y, Z, XI, YI, 0.05, 0.05)\n",
    "barnes['10'] = spi.barnes_objective(X, Y, Z, XI, YI, .10, 0.10)\n",
    "\n",
    "# Interpolating with griddata (linear, nearest, cubic)\n",
    "# interpolation points\n",
    "interp_points = list(zip(XI.flatten(), YI.flatten()))\n",
    "# linear_output = scipy.interpolate.griddata(list(zip(X, Y)), Z,\n",
    "# \tinterp_points, method='linear')\n",
    "cubic_output = scipy.interpolate.griddata(list(zip(X, Y)), Z,\n",
    "\tinterp_points, method='cubic')\n",
    "# interpolated data grid\n",
    "# linear = linear_output.reshape(ny,nx)\n",
    "cubic = cubic_output.reshape(ny,nx)"
   ]
  },
  {
   "cell_type": "markdown",
   "metadata": {},
   "source": [
    "### Create output plot showing interpolation and points"
   ]
  },
  {
   "cell_type": "code",
   "execution_count": null,
   "metadata": {},
   "outputs": [],
   "source": [
    "# plot data and interpolated data\n",
    "fig, ((ax1,ax2,ax3,ax4),(ax5,ax6,ax7,ax8)) = plt.subplots(num=1,\n",
    "\tncols=4, nrows=2, sharex=True, sharey=True, figsize=(12,6.5))\n",
    "extents=(0,1,1,0)\n",
    "\n",
    "# create color map with invalid points\n",
    "cmap = plt.cm.get_cmap('Spectral_r').copy()\n",
    "cmap.set_bad('w',0.)\n",
    "\n",
    "# plot real data\n",
    "ax1.imshow(ZI, interpolation='nearest', extent=extents, cmap=cmap,\n",
    "\tvmin=ZI.min(), vmax=ZI.max())\n",
    "ax1.scatter(X,Y,c=Z, s=10, cmap=cmap, zorder=2,\n",
    "\tvmin=ZI.min(), vmax=ZI.max(), edgecolors='w')\n",
    "\n",
    "# plot radial basis interpolated data\n",
    "ax2.imshow(radial, interpolation='nearest', extent=extents, cmap=cmap,\n",
    "\tvmin=ZI.min(), vmax=ZI.max())\n",
    "# plot real data\n",
    "ax2.scatter(X,Y,c=Z, s=10, cmap=cmap, zorder=2,\n",
    "\tvmin=ZI.min(), vmax=ZI.max(), edgecolors='none')\n",
    "\n",
    "# plot compact radial basis interpolated data\n",
    "ax3.imshow(wendland, interpolation='nearest', extent=extents, cmap=cmap,\n",
    "\tvmin=ZI.min(), vmax=ZI.max())\n",
    "# plot real data\n",
    "ax3.scatter(X,Y,c=Z, s=10, cmap=cmap, zorder=2,\n",
    "\tvmin=ZI.min(), vmax=ZI.max(), edgecolors='none')\n",
    "\n",
    "# plot Barnes objective interpolant data\n",
    "SMOOTH = '10'\n",
    "ax4.imshow(barnes[SMOOTH], interpolation='nearest', extent=extents,\n",
    "\tcmap=cmap, vmin=ZI.min(), vmax=ZI.max())\n",
    "# plot real data\n",
    "ax4.scatter(X,Y,c=Z, s=10, cmap=cmap, zorder=2,\n",
    "\tvmin=ZI.min(), vmax=ZI.max(), edgecolors='none')\n",
    "\n",
    "# plot biharmonic spline interpolated data\n",
    "tension = '10'\n",
    "ax5.imshow(spline[tension], interpolation='nearest', extent=extents,\n",
    "\tcmap=cmap, vmin=ZI.min(), vmax=ZI.max())\n",
    "# plot real data\n",
    "ax5.scatter(X,Y,c=Z, s=10, cmap=cmap, zorder=2,\n",
    "\tvmin=ZI.min(), vmax=ZI.max(), edgecolors='none')\n",
    "\n",
    "# plot regularized biharmonic spline interpolated data\n",
    "Rtension = 'R50'\n",
    "ax6.imshow(spline[Rtension], interpolation='nearest', extent=extents,\n",
    "\tcmap=cmap, vmin=ZI.min(), vmax=ZI.max())\n",
    "# plot real data\n",
    "ax6.scatter(X,Y,c=Z, s=10, cmap=cmap, zorder=2,\n",
    "\tvmin=ZI.min(), vmax=ZI.max(), edgecolors='none')\n",
    "\n",
    "# plot Shepard interpolant data\n",
    "power = '2'\n",
    "ax7.imshow(shepard[power], interpolation='nearest', extent=extents,\n",
    "\tcmap=cmap, vmin=ZI.min(), vmax=ZI.max())\n",
    "# plot real data\n",
    "ax7.scatter(X,Y,c=Z, s=10, cmap=cmap, zorder=2,\n",
    "\tvmin=ZI.min(), vmax=ZI.max(), edgecolors='none')\n",
    "\n",
    "# plot interpolated data from griddata\n",
    "ax8.imshow(cubic, interpolation='nearest', extent=extents, cmap=cmap,\n",
    "\tvmin=ZI.min(), vmax=ZI.max())\n",
    "# plot real data\n",
    "ax8.scatter(X,Y,c=Z, s=10, cmap=cmap, zorder=2,\n",
    "\tvmin=ZI.min(), vmax=ZI.max(), edgecolors='none')\n",
    "\n",
    "# no ticks on the x and y axes\n",
    "ax1.get_xaxis().set_ticks([]); ax1.get_yaxis().set_ticks([])\n",
    "ax2.get_xaxis().set_ticks([]); ax2.get_yaxis().set_ticks([])\n",
    "ax3.get_xaxis().set_ticks([]); ax3.get_yaxis().set_ticks([])\n",
    "ax4.get_xaxis().set_ticks([]); ax4.get_yaxis().set_ticks([])\n",
    "ax5.get_xaxis().set_ticks([]); ax5.get_yaxis().set_ticks([])\n",
    "ax6.get_xaxis().set_ticks([]); ax6.get_yaxis().set_ticks([])\n",
    "ax7.get_xaxis().set_ticks([]); ax7.get_yaxis().set_ticks([])\n",
    "ax8.get_xaxis().set_ticks([]); ax8.get_yaxis().set_ticks([])\n",
    "# set x and y limits\n",
    "ax1.set_xlim(0, 1)\n",
    "ax1.set_ylim(0, 1)\n",
    "# add titles\n",
    "ax1.set_title('True Franke Function')\n",
    "ax2.set_title('RBF Inverse Multiquadric')\n",
    "ax3.set_title('Compact RBF Wendland')\n",
    "ax4.set_title('Barnes Objective (L{0})'.format(SMOOTH))\n",
    "ax5.set_title('Biharmonic Spline (T{0})'.format(tension))\n",
    "ax6.set_title('Regular Biharmonic Spline ({0})'.format(Rtension))\n",
    "ax7.set_title('Shepard Interpolant (P{0})'.format(power))\n",
    "ax8.set_title('{0} with SciPy'.format('Cubic'))\n",
    "# subplot adjustments\n",
    "fig.subplots_adjust(left=0.02,right=0.98,bottom=0.02,top=0.95,\n",
    "\twspace=0.02,hspace=0.1)\n",
    "plt.show()"
   ]
  },
  {
   "cell_type": "code",
   "execution_count": null,
   "metadata": {},
   "outputs": [],
   "source": []
  }
 ],
 "metadata": {
  "kernelspec": {
   "display_name": "Python 3",
   "language": "python",
   "name": "python3"
  },
  "language_info": {
   "codemirror_mode": {
    "name": "ipython",
    "version": 3
   },
   "file_extension": ".py",
   "mimetype": "text/x-python",
   "name": "python",
   "nbconvert_exporter": "python",
   "pygments_lexer": "ipython3",
   "version": "3.10.12"
  }
 },
 "nbformat": 4,
 "nbformat_minor": 4
}
