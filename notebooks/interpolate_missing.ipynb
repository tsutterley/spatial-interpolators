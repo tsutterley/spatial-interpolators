{
 "cells": [
  {
   "cell_type": "markdown",
   "metadata": {},
   "source": [
    "## Test gridded spatial interpolators using Franke bivariate test function  \n",
    "http://www.sfu.ca/~ssurjano/franke2d.html  "
   ]
  },
  {
   "cell_type": "code",
   "execution_count": null,
   "metadata": {},
   "outputs": [],
   "source": [
    "import numpy as np\n",
    "import scipy.interpolate\n",
    "import spatial_interpolators as spi\n",
    "import matplotlib.pyplot as plt"
   ]
  },
  {
   "cell_type": "markdown",
   "metadata": {},
   "source": [
    "### Franke's bivariate test function"
   ]
  },
  {
   "cell_type": "code",
   "execution_count": null,
   "metadata": {},
   "outputs": [],
   "source": [
    "def franke(x,y):\n",
    "\tF1 = 0.75*np.exp(-((9.0*x-2.0)**2 + (9.0*y-2.0)**2)/4.0)\n",
    "\tF2 = 0.75*np.exp(-((9.0*x+1.0)**2/49.0-(9.0*y+1.0)/10.0))\n",
    "\tF3 = 0.5*np.exp(-((9.0*x-7.0)**2 + (9.0*y-3.0)**2)/4.0)\n",
    "\tF4 = 0.2*np.exp(-((9.0*x-4.0)**2 + (9.0*y-7.0)**2))\n",
    "\tF = F1 + F2 + F3 - F4\n",
    "\treturn F"
   ]
  },
  {
   "cell_type": "markdown",
   "metadata": {},
   "source": [
    "### Calculate Franke's evaluation function"
   ]
  },
  {
   "cell_type": "code",
   "execution_count": null,
   "metadata": {},
   "outputs": [],
   "source": [
    "# calculate output points\n",
    "nx = 250\n",
    "ny = 250\n",
    "xpts = np.arange(nx)/np.float64(nx)\n",
    "ypts = np.arange(ny)/np.float64(ny)\n",
    "XI,YI = np.meshgrid(xpts,ypts)\n",
    "# calculate real values at grid points\n",
    "ZI = np.ma.zeros((ny,nx))\n",
    "ZI.mask = np.zeros((ny,nx),dtype=bool)\n",
    "ZI.data[:] = franke(XI,YI)\n",
    "# create random points to be removed from the grid\n",
    "indx = np.random.randint(0, high=nx, size=32150)\n",
    "indy = np.random.randint(0, high=ny, size=32150)\n",
    "ZI.mask[indy,indx] = True"
   ]
  },
  {
   "cell_type": "markdown",
   "metadata": {},
   "source": [
    "### Plot Original Franke Function with Missing Values"
   ]
  },
  {
   "cell_type": "code",
   "execution_count": null,
   "metadata": {},
   "outputs": [],
   "source": [
    "# plot data and interpolated data\n",
    "f1, ax1 = plt.subplots(num=1, figsize=(6,6))\n",
    "extents=(0,1,1,0)\n",
    "\n",
    "# create color map with invalid points\n",
    "cmap = plt.cm.get_cmap('Spectral_r').copy()\n",
    "cmap.set_bad('w',0.)\n",
    "# plot read data with missing values\n",
    "ax1.imshow(ZI, interpolation='nearest', extent=extents, cmap=cmap,\n",
    "\tvmin=ZI.min(), vmax=ZI.max())\n",
    "# no ticks on the x and y axes\n",
    "ax1.get_xaxis().set_ticks([]); ax1.get_yaxis().set_ticks([])\n",
    "# set x and y limits\n",
    "ax1.set_xlim(0, 1)\n",
    "ax1.set_ylim(0, 1)\n",
    "# add titles\n",
    "ax1.set_title('Franke Function')\n",
    "# subplot adjustments\n",
    "f1.subplots_adjust(left=0.02,right=0.98,bottom=0.02,top=0.95,\n",
    "\twspace=0.02,hspace=0.1)\n",
    "plt.show()"
   ]
  },
  {
   "cell_type": "markdown",
   "metadata": {},
   "source": [
    "### Interpolate missing values using inpainting algorithms"
   ]
  },
  {
   "cell_type": "code",
   "execution_count": null,
   "metadata": {},
   "outputs": [],
   "source": [
    "interp = {}\n",
    "interp['nearest'] = spi.inpaint(xpts, ypts, ZI, n=0)\n",
    "interp['inpainted'] = spi.inpaint(xpts, ypts, ZI, n=100)"
   ]
  },
  {
   "cell_type": "markdown",
   "metadata": {},
   "source": [
    "### Plot Interpolated Grids"
   ]
  },
  {
   "cell_type": "code",
   "execution_count": null,
   "metadata": {},
   "outputs": [],
   "source": [
    "# plot data and interpolated data\n",
    "f2,ax2 = plt.subplots(num=2, ncols=2, sharex=True, sharey=True, figsize=(12,6))\n",
    "# plot interpolated data with filled values\n",
    "for i,key in enumerate(interp.keys()):\n",
    "\tax2[i].imshow(interp[key],\n",
    "        interpolation='nearest',\n",
    "\t\textent=extents, cmap=cmap,\n",
    "\t\tvmin=ZI.min(), vmax=ZI.max())\n",
    "\t# no ticks on the x and y axes\n",
    "\tax2[i].get_xaxis().set_ticks([])\n",
    "\tax2[i].get_yaxis().set_ticks([])\n",
    "\t# set x and y limits\n",
    "\tax2[i].set_xlim(0, 1)\n",
    "\tax2[i].set_ylim(0, 1)\n",
    "# add titles\n",
    "ax2[0].set_title('Nearest Neighbors')\n",
    "ax2[1].set_title('DCT Inpainted')\n",
    "# subplot adjustments\n",
    "f2.subplots_adjust(left=0.02,right=0.98,bottom=0.02,top=0.95,\n",
    "\twspace=0.02,hspace=0.1)\n",
    "plt.show()"
   ]
  },
  {
   "cell_type": "code",
   "execution_count": null,
   "metadata": {},
   "outputs": [],
   "source": [
    "# calculate real values at grid points\n",
    "ZAll = franke(XI,YI)\n",
    "difference = {}\n",
    "for key,val in interp.items():\n",
    "\tdifference[key] = np.sqrt((ZAll - val)**2)\n",
    "\n",
    "# plot data and interpolated data\n",
    "f2,ax2 = plt.subplots(num=2, ncols=2, sharex=True, sharey=True, figsize=(12,6))\n",
    "\n",
    "# create color map with invalid points\n",
    "dmap = plt.cm.get_cmap('viridis').copy()\n",
    "dmap.set_bad('w',0.)\n",
    "# maximum value in differences\n",
    "vmax = np.max([np.max(val) for key,val in difference.items()])\n",
    "# inverse indices\n",
    "invy,invx = np.nonzero(np.logical_not(ZI.mask))\n",
    "ninv = np.count_nonzero(np.logical_not(ZI.mask))\n",
    "\n",
    "# plot differences\n",
    "for i,key in enumerate(difference.keys()):\n",
    "\tRMS = np.sqrt(np.sum(difference[key][indy,indx]**2)/ninv)\n",
    "\tprint('{0} RMS: {1:0.6f}'.format(key,RMS))\n",
    "\tax2[i].imshow(difference[key],\n",
    "\t\tinterpolation='nearest',\n",
    "\t\textent=extents, cmap=dmap,\n",
    "\t\tvmin=0, vmax=vmax)\n",
    "\t# no ticks on the x and y axes\n",
    "\tax2[i].get_xaxis().set_ticks([])\n",
    "\tax2[i].get_yaxis().set_ticks([])\n",
    "\t# set x and y limits\n",
    "\tax2[i].set_xlim(0, 1)\n",
    "\tax2[i].set_ylim(0, 1)\n",
    "\t# add titles\n",
    "\tax2[0].set_title('Nearest Neighbors')\n",
    "\tax2[1].set_title('DCT Inpainted')\n",
    "\n",
    "# subplot adjustments\n",
    "f2.subplots_adjust(left=0.02,right=0.98,bottom=0.02,top=0.95,\n",
    "wspace=0.02,hspace=0.1)\n",
    "plt.show()"
   ]
  }
 ],
 "metadata": {
  "kernelspec": {
   "display_name": "Python 3.10.6 64-bit",
   "language": "python",
   "name": "python3"
  },
  "language_info": {
   "codemirror_mode": {
    "name": "ipython",
    "version": 3
   },
   "file_extension": ".py",
   "mimetype": "text/x-python",
   "name": "python",
   "nbconvert_exporter": "python",
   "pygments_lexer": "ipython3",
   "version": "3.10.6"
  },
  "vscode": {
   "interpreter": {
    "hash": "31f2aee4e71d21fbe5cf8b01ff0e069b9275f58929596ceb00d14d90e3e16cd6"
   }
  }
 },
 "nbformat": 4,
 "nbformat_minor": 4
}
